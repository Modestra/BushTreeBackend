{
 "cells": [
  {
   "cell_type": "code",
   "execution_count": 1,
   "metadata": {
    "id": "S_55bSQCdLqd"
   },
   "outputs": [],
   "source": [
    "#Импорт библиотек\n",
    "import pandas as pd\n",
    "import numpy as np\n",
    "\n",
    "from sklearn.preprocessing import OrdinalEncoder, StandardScaler\n",
    "from sklearn.neighbors import KNeighborsClassifier\n",
    "pd.options.mode.chained_assignment = None "
   ]
  },
  {
   "cell_type": "markdown",
   "metadata": {
    "id": "BoBQbt14ehoS"
   },
   "source": [
    "# Имитация пользовательского запроса"
   ]
  },
  {
   "cell_type": "code",
   "execution_count": 61,
   "metadata": {
    "id": "6U6ZNkxcN7BN"
   },
   "outputs": [],
   "source": [
    "request = {'height_from': [50], 'height_to': [200], 'color_main': ['фиолетовый'], 'color_other': ['синий']}\n",
    "input_request = pd.DataFrame(request)"
   ]
  },
  {
   "cell_type": "markdown",
   "metadata": {
    "id": "Rc_D16MZVMP8"
   },
   "source": [
    "# Обработка датасетов"
   ]
  },
  {
   "cell_type": "code",
   "execution_count": 3,
   "metadata": {
    "id": "zOO2mTTVdfPr"
   },
   "outputs": [],
   "source": [
    "main_data = pd.read_csv('C:/Users/MyUser/Downloads/flowers - Лист1.csv')\n",
    "df = pd.read_csv('C:/Users/MyUser/Downloads/Update_датасет.csv')"
   ]
  },
  {
   "cell_type": "code",
   "execution_count": 4,
   "metadata": {},
   "outputs": [],
   "source": [
    "df.drop('Unnamed: 0', axis=1, inplace=True)"
   ]
  },
  {
   "cell_type": "markdown",
   "metadata": {
    "id": "4n0pH_HIXSnW"
   },
   "source": [
    "Датасет с цветами"
   ]
  },
  {
   "cell_type": "code",
   "execution_count": 5,
   "metadata": {
    "id": "kTEjaEvVWMlb"
   },
   "outputs": [],
   "source": [
    "data_flowers = df[['id', 'frost_resistance_zone','decorative_terms_start', 'decorative_terms_end',\n",
    "                   'height_from', 'height_to', 'color_main', 'color_other']]\n",
    "data_flowers = data_flowers[data_flowers['frost_resistance_zone'] < 5].drop('frost_resistance_zone', axis=1).reset_index(drop=True)"
   ]
  },
  {
   "cell_type": "markdown",
   "metadata": {
    "id": "_HTCuKMWX7fD"
   },
   "source": [
    "Датасет цветников"
   ]
  },
  {
   "cell_type": "code",
   "execution_count": 6,
   "metadata": {
    "id": "NZ9kAlraGaAD"
   },
   "outputs": [],
   "source": [
    "flower_beds = main_data.pivot_table(index=['flower_beds'], values=['height_from', 'height_to'], aggfunc={'height_from': \"min\", 'height_to': \"max\"}).reset_index()"
   ]
  },
  {
   "cell_type": "code",
   "execution_count": 7,
   "metadata": {
    "id": "7F4KrgkyVyLZ"
   },
   "outputs": [],
   "source": [
    "for i in flower_beds['flower_beds'].unique():\n",
    "    flower_beds.loc[(flower_beds['flower_beds'] == i), 'color_main'] = main_data[main_data['flower_beds']==i]['color_main'].value_counts().index[0]\n",
    "    if i != 32:\n",
    "        flower_beds.loc[(flower_beds['flower_beds'] == i), 'color_other'] =\\\n",
    "        main_data[main_data['flower_beds']==i]['color_main'].value_counts().index[1]\n",
    "    else:\n",
    "        flower_beds.loc[(flower_beds['flower_beds'] == i), 'color_other'] = main_data[main_data['flower_beds']==i]['color_main'].value_counts().index[0]"
   ]
  },
  {
   "cell_type": "markdown",
   "metadata": {
    "id": "SESdP8t9r0SE"
   },
   "source": [
    "# Рекомендация цветника"
   ]
  },
  {
   "cell_type": "markdown",
   "metadata": {
    "id": "efzLumK5YSO1"
   },
   "source": [
    "## Кодирование цветов в датасете с цветниками"
   ]
  },
  {
   "cell_type": "code",
   "execution_count": 8,
   "metadata": {
    "colab": {
     "base_uri": "https://localhost:8080/",
     "height": 80
    },
    "id": "UMdO0Y_Ea1Ae",
    "outputId": "ba21b506-599b-4cc8-f89e-0fd5b7d1eaeb"
   },
   "outputs": [
    {
     "data": {
      "text/plain": [
       "OrdinalEncoder()"
      ]
     },
     "execution_count": 8,
     "metadata": {},
     "output_type": "execute_result"
    }
   ],
   "source": [
    "x = pd.DataFrame(set(flower_beds['color_main'].to_list() + flower_beds['color_other'].to_list()))\n",
    "encoder = OrdinalEncoder()\n",
    "encoder.fit(x)"
   ]
  },
  {
   "cell_type": "code",
   "execution_count": 41,
   "metadata": {
    "colab": {
     "base_uri": "https://localhost:8080/"
    },
    "id": "epVTk84ia07D",
    "outputId": "af10480d-e27d-43e4-b5e2-88e650c91597"
   },
   "outputs": [
    {
     "name": "stderr",
     "output_type": "stream",
     "text": [
      "E:\\Games\\ana\\lib\\site-packages\\sklearn\\base.py:443: UserWarning: X has feature names, but OrdinalEncoder was fitted without feature names\n",
      "  warnings.warn(\n",
      "E:\\Games\\ana\\lib\\site-packages\\sklearn\\base.py:443: UserWarning: X has feature names, but OrdinalEncoder was fitted without feature names\n",
      "  warnings.warn(\n"
     ]
    }
   ],
   "source": [
    "flower_beds_coded = flower_beds.drop(['flower_beds'], axis=1)\n",
    "flower_beds_coded['color_main'] = pd.DataFrame(encoder.transform(flower_beds[['color_main']]))\n",
    "flower_beds_coded['color_other'] = pd.DataFrame(encoder.transform(flower_beds[['color_other']]))"
   ]
  },
  {
   "cell_type": "markdown",
   "metadata": {
    "id": "fUeQiU6DeLqJ"
   },
   "source": [
    "## Нормирование числовых данных"
   ]
  },
  {
   "cell_type": "code",
   "execution_count": 10,
   "metadata": {
    "colab": {
     "base_uri": "https://localhost:8080/",
     "height": 80
    },
    "id": "uNMNNF-OGwYI",
    "outputId": "2b65de3a-0ce6-4e98-dd4a-0ca744eba280"
   },
   "outputs": [
    {
     "data": {
      "text/plain": [
       "StandardScaler()"
      ]
     },
     "execution_count": 10,
     "metadata": {},
     "output_type": "execute_result"
    }
   ],
   "source": [
    "scaler = StandardScaler()\n",
    "scaler.fit(flower_beds_coded[['height_from','height_to']])"
   ]
  },
  {
   "cell_type": "code",
   "execution_count": 11,
   "metadata": {
    "id": "RyXjplEBPbH8"
   },
   "outputs": [],
   "source": [
    "flower_beds_coded[flower_beds_coded.drop(['color_main',\t'color_other'], axis=1).columns.to_list()] = scaler.transform(flower_beds_coded.drop(['color_main',\t'color_other'], axis=1))"
   ]
  },
  {
   "cell_type": "markdown",
   "metadata": {
    "id": "-BMqIFfgheUQ"
   },
   "source": [
    "## Обучение рекомендации цветника"
   ]
  },
  {
   "cell_type": "code",
   "execution_count": 12,
   "metadata": {
    "colab": {
     "base_uri": "https://localhost:8080/",
     "height": 80
    },
    "id": "2-m8TdmaOux-",
    "outputId": "aebea4b4-7e4c-4bd9-8121-0edbf6d04e88"
   },
   "outputs": [
    {
     "data": {
      "text/plain": [
       "KNeighborsClassifier(n_neighbors=3)"
      ]
     },
     "execution_count": 12,
     "metadata": {},
     "output_type": "execute_result"
    }
   ],
   "source": [
    "neigh = KNeighborsClassifier(n_neighbors=3)\n",
    "neigh.fit(flower_beds_coded, flower_beds['flower_beds'])"
   ]
  },
  {
   "cell_type": "markdown",
   "metadata": {
    "id": "yEom8OBhqXpO"
   },
   "source": [
    "## Обработка пользовательского запроса"
   ]
  },
  {
   "cell_type": "code",
   "execution_count": 62,
   "metadata": {
    "colab": {
     "base_uri": "https://localhost:8080/",
     "height": 155
    },
    "id": "w-bNBEkXfAla",
    "outputId": "231eab71-0f35-4f4b-ec8f-9bbf2a5ad8ea"
   },
   "outputs": [
    {
     "name": "stderr",
     "output_type": "stream",
     "text": [
      "E:\\Games\\ana\\lib\\site-packages\\sklearn\\base.py:443: UserWarning: X has feature names, but OrdinalEncoder was fitted without feature names\n",
      "  warnings.warn(\n",
      "E:\\Games\\ana\\lib\\site-packages\\sklearn\\base.py:443: UserWarning: X has feature names, but OrdinalEncoder was fitted without feature names\n",
      "  warnings.warn(\n"
     ]
    },
    {
     "data": {
      "text/html": [
       "<div>\n",
       "<style scoped>\n",
       "    .dataframe tbody tr th:only-of-type {\n",
       "        vertical-align: middle;\n",
       "    }\n",
       "\n",
       "    .dataframe tbody tr th {\n",
       "        vertical-align: top;\n",
       "    }\n",
       "\n",
       "    .dataframe thead th {\n",
       "        text-align: right;\n",
       "    }\n",
       "</style>\n",
       "<table border=\"1\" class=\"dataframe\">\n",
       "  <thead>\n",
       "    <tr style=\"text-align: right;\">\n",
       "      <th></th>\n",
       "      <th>height_from</th>\n",
       "      <th>height_to</th>\n",
       "      <th>color_main</th>\n",
       "      <th>color_other</th>\n",
       "    </tr>\n",
       "  </thead>\n",
       "  <tbody>\n",
       "    <tr>\n",
       "      <th>0</th>\n",
       "      <td>1.675417</td>\n",
       "      <td>1.16636</td>\n",
       "      <td>7.0</td>\n",
       "      <td>6.0</td>\n",
       "    </tr>\n",
       "  </tbody>\n",
       "</table>\n",
       "</div>"
      ],
      "text/plain": [
       "   height_from  height_to  color_main  color_other\n",
       "0     1.675417    1.16636         7.0          6.0"
      ]
     },
     "execution_count": 62,
     "metadata": {},
     "output_type": "execute_result"
    }
   ],
   "source": [
    "input_request['color_main'] = pd.DataFrame(encoder.transform(input_request[['color_main']]))\n",
    "input_request['color_other'] = pd.DataFrame(encoder.transform(input_request[['color_other']]))\n",
    "input_request[input_request.drop(['color_main',\t'color_other'], axis=1).columns.to_list()] = scaler.transform(input_request.drop(['color_main',\t'color_other'], axis=1))\n",
    "input_request"
   ]
  },
  {
   "cell_type": "code",
   "execution_count": 63,
   "metadata": {
    "colab": {
     "base_uri": "https://localhost:8080/"
    },
    "id": "wLqWE-9l-izt",
    "outputId": "0abf5ded-7145-4e23-d0eb-42738275ec74"
   },
   "outputs": [
    {
     "name": "stdout",
     "output_type": "stream",
     "text": [
      "Наиболее близкий цветник 46\n",
      "Наиболее близкий цветник 42\n",
      "Наиболее близкий цветник 8\n"
     ]
    }
   ],
   "source": [
    "flower_beds_num = []\n",
    "for i in flower_beds.iloc[neigh.predict_proba(input_request).argsort(axis=1)[:,:-4:-1][0]]['flower_beds']:\n",
    "    flower_beds_num.append(i)\n",
    "    print('Наиболее близкий цветник', i)\n",
    "flower_beds_num.sort(key=None, reverse=False)"
   ]
  },
  {
   "cell_type": "code",
   "execution_count": 64,
   "metadata": {
    "colab": {
     "base_uri": "https://localhost:8080/",
     "height": 143
    },
    "id": "bbEJ7rDAja0U",
    "outputId": "39d98c98-3d15-4b4f-f649-bb20e8f13689"
   },
   "outputs": [
    {
     "data": {
      "text/html": [
       "<div>\n",
       "<style scoped>\n",
       "    .dataframe tbody tr th:only-of-type {\n",
       "        vertical-align: middle;\n",
       "    }\n",
       "\n",
       "    .dataframe tbody tr th {\n",
       "        vertical-align: top;\n",
       "    }\n",
       "\n",
       "    .dataframe thead th {\n",
       "        text-align: right;\n",
       "    }\n",
       "</style>\n",
       "<table border=\"1\" class=\"dataframe\">\n",
       "  <thead>\n",
       "    <tr style=\"text-align: right;\">\n",
       "      <th></th>\n",
       "      <th>flower_beds</th>\n",
       "      <th>height_from</th>\n",
       "      <th>height_to</th>\n",
       "      <th>color_main</th>\n",
       "      <th>color_other</th>\n",
       "    </tr>\n",
       "  </thead>\n",
       "  <tbody>\n",
       "    <tr>\n",
       "      <th>7</th>\n",
       "      <td>8</td>\n",
       "      <td>15</td>\n",
       "      <td>200</td>\n",
       "      <td>фиолетовый</td>\n",
       "      <td>синий</td>\n",
       "    </tr>\n",
       "    <tr>\n",
       "      <th>37</th>\n",
       "      <td>42</td>\n",
       "      <td>20</td>\n",
       "      <td>200</td>\n",
       "      <td>фиолетовый</td>\n",
       "      <td>розовый</td>\n",
       "    </tr>\n",
       "    <tr>\n",
       "      <th>41</th>\n",
       "      <td>46</td>\n",
       "      <td>40</td>\n",
       "      <td>200</td>\n",
       "      <td>фиолетовый</td>\n",
       "      <td>розовый</td>\n",
       "    </tr>\n",
       "  </tbody>\n",
       "</table>\n",
       "</div>"
      ],
      "text/plain": [
       "    flower_beds  height_from  height_to  color_main color_other\n",
       "7             8           15        200  фиолетовый       синий\n",
       "37           42           20        200  фиолетовый     розовый\n",
       "41           46           40        200  фиолетовый     розовый"
      ]
     },
     "execution_count": 64,
     "metadata": {},
     "output_type": "execute_result"
    }
   ],
   "source": [
    "recomended_data = flower_beds.query('flower_beds in @flower_beds_num')\n",
    "recomended_data"
   ]
  },
  {
   "cell_type": "markdown",
   "metadata": {
    "id": "nYkQKp7YrqOv"
   },
   "source": [
    "# Рекомендация цветов"
   ]
  },
  {
   "cell_type": "code",
   "execution_count": 49,
   "metadata": {
    "id": "sIUtX4BEPSs7"
   },
   "outputs": [],
   "source": [
    "#Таблица с цветами из цветников\n",
    "flowers_from_main_data = main_data[['flower_beds', 'decorative_terms_start', 'decorative_terms_end', 'height_from', 'height_to', 'color_main', 'color_other', 'cloud_number']]"
   ]
  },
  {
   "cell_type": "code",
   "execution_count": 50,
   "metadata": {
    "id": "XTy7yjldWAUi"
   },
   "outputs": [],
   "source": [
    "flowers_from_main_data_coded = flowers_from_main_data.drop(['cloud_number'], axis=1)"
   ]
  },
  {
   "cell_type": "code",
   "execution_count": 55,
   "metadata": {},
   "outputs": [
    {
     "data": {
      "text/plain": [
       "[35, 24, 5]"
      ]
     },
     "execution_count": 55,
     "metadata": {},
     "output_type": "execute_result"
    }
   ],
   "source": [
    "flower_beds_num[::-1]"
   ]
  },
  {
   "cell_type": "code",
   "execution_count": 67,
   "metadata": {
    "colab": {
     "base_uri": "https://localhost:8080/"
    },
    "id": "14lxywKdSSXq",
    "outputId": "b3de0d36-53e3-470d-d90e-a04e036b930b"
   },
   "outputs": [
    {
     "name": "stdout",
     "output_type": "stream",
     "text": [
      "Для цветника № 46:\n",
      "Для облака 1 наиболее близкие цветы:\n",
      "- Шалфей (сальвия) дубравный Плюмоза\n",
      "\n",
      "Для облака 2 наиболее близкие цветы:\n",
      "- Лилейник Сабина Баур\n",
      "\n",
      "Для облака 3 наиболее близкие цветы:\n",
      "- Герань садовая Пепл Пиллоу\n",
      "\n",
      "Для облака 4 наиболее близкие цветы:\n",
      "- Ромашка (Нивяник) Бродвей Лайтс\n",
      "\n"
     ]
    }
   ],
   "source": [
    "for i in flower_beds_num[::-1]:\n",
    "    print(f'Для цветника № {i}:')\n",
    "    for j in range(len(flowers_from_main_data[flowers_from_main_data['flower_beds'] == i])):\n",
    "        print(f'Для облака {j+1} наиболее близкие цветы:')\n",
    "        color_main = flowers_from_main_data[flowers_from_main_data['flower_beds'] == i]['color_main'].values[j]\n",
    "        color_other = flowers_from_main_data[flowers_from_main_data['flower_beds'] == i]['color_other'].values[j] # Получение основного и второстепенного цвета цветка\n",
    "        temp_data = data_flowers[(data_flowers.color_main == color_main) & (data_flowers.color_other == color_other)] #формирование временной таблицы цветов из бд отфильтрованная по цвету\n",
    "        temp_scaler = StandardScaler()\n",
    "        temp_scaler.fit(temp_data[['decorative_terms_start', 'decorative_terms_end', 'height_to']])\n",
    "        temp_data.loc[:, ['decorative_terms_start', 'decorative_terms_end', 'height_to']] = temp_scaler.transform(temp_data[['decorative_terms_start', 'decorative_terms_end', 'height_to']]) # Стандартизирование числовых данных\n",
    "        \n",
    "        if len(temp_data) < 3:\n",
    "            neigh_temp = KNeighborsClassifier(n_neighbors=1, weights='distance')\n",
    "            neigh_temp.fit(temp_data[['decorative_terms_start', 'decorative_terms_end', 'height_to']], temp_data['id']) #Обучение рекомендации цветка\n",
    "        else:\n",
    "            neigh_temp = KNeighborsClassifier(n_neighbors=3, weights='distance')\n",
    "            neigh_temp.fit(temp_data[['decorative_terms_start', 'decorative_terms_end', 'height_to']], temp_data['id']) #Обучение рекомендации цветка\n",
    "\n",
    "        flower = flowers_from_main_data_coded[flowers_from_main_data_coded['flower_beds'] == i][['decorative_terms_start', 'decorative_terms_end', 'height_to']].iloc[j:j+1]\n",
    "        flower.loc[:, ['decorative_terms_start', 'decorative_terms_end', 'height_to']] = temp_scaler.transform(flower[['decorative_terms_start', 'decorative_terms_end', 'height_to']])\n",
    "\n",
    "        for k in temp_data.iloc[neigh_temp.predict_proba(flower).argsort(axis=1)[:,:-2:-1][0]]['id']:\n",
    "            print('-', df[df['id'] == k]['name'].values[0])\n",
    "        print()\n",
    "    break"
   ]
  },
  {
   "cell_type": "code",
   "execution_count": 114,
   "metadata": {
    "colab": {
     "base_uri": "https://localhost:8080/",
     "height": 234
    },
    "id": "ZDOoecbfqkqQ",
    "outputId": "18d45525-14e4-47fd-e964-6f3023db268d"
   },
   "outputs": [],
   "source": [
    "#df[df['name'].str.contains(\"Барбарис\")]"
   ]
  }
 ],
 "metadata": {
  "colab": {
   "provenance": []
  },
  "kernelspec": {
   "display_name": "Python 3 (ipykernel)",
   "language": "python",
   "name": "python3"
  },
  "language_info": {
   "codemirror_mode": {
    "name": "ipython",
    "version": 3
   },
   "file_extension": ".py",
   "mimetype": "text/x-python",
   "name": "python",
   "nbconvert_exporter": "python",
   "pygments_lexer": "ipython3",
   "version": "3.9.12"
  }
 },
 "nbformat": 4,
 "nbformat_minor": 1
}
